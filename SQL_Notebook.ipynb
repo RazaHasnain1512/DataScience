{
 "cells": [
  {
   "cell_type": "code",
   "execution_count": 1,
   "id": "8a20b5f9-bb60-4c9a-810a-f051ef89f72d",
   "metadata": {
    "tags": []
   },
   "outputs": [
    {
     "name": "stdout",
     "output_type": "stream",
     "text": [
      "Collecting sqlalchemy==1.3.9\n",
      "  Downloading SQLAlchemy-1.3.9.tar.gz (6.0 MB)\n",
      "\u001b[2K     \u001b[90m━━━━━━━━━━━━━━━━━━━━━━━━━━━━━━━━━━━━━━━━\u001b[0m \u001b[32m6.0/6.0 MB\u001b[0m \u001b[31m54.0 MB/s\u001b[0m eta \u001b[36m0:00:00\u001b[0m:00:01\u001b[0m0:01\u001b[0m\n",
      "\u001b[?25h  Preparing metadata (setup.py) ... \u001b[?25ldone\n",
      "\u001b[?25hBuilding wheels for collected packages: sqlalchemy\n",
      "  Building wheel for sqlalchemy (setup.py) ... \u001b[?25ldone\n",
      "\u001b[?25h  Created wheel for sqlalchemy: filename=SQLAlchemy-1.3.9-cp37-cp37m-linux_x86_64.whl size=1159121 sha256=34aab375cb264d069d2ccc2c3768e2184cf35b4c9ed4757f94c534bed0190509\n",
      "  Stored in directory: /home/jupyterlab/.cache/pip/wheels/03/71/13/010faf12246f72dc76b4150e6e599d13a85b4435e06fb9e51f\n",
      "Successfully built sqlalchemy\n",
      "Installing collected packages: sqlalchemy\n",
      "  Attempting uninstall: sqlalchemy\n",
      "    Found existing installation: SQLAlchemy 1.3.24\n",
      "    Uninstalling SQLAlchemy-1.3.24:\n",
      "      Successfully uninstalled SQLAlchemy-1.3.24\n",
      "Successfully installed sqlalchemy-1.3.9\n"
     ]
    }
   ],
   "source": [
    "!pip install sqlalchemy==1.3.9\n",
    "\n",
    "#Please uncomment and execute the code below if you are working locally.\n",
    "#!pip install ipython-sql\n"
   ]
  },
  {
   "cell_type": "code",
   "execution_count": 2,
   "id": "97113bcb-0089-49f6-a2f4-4851f5abc391",
   "metadata": {
    "tags": []
   },
   "outputs": [],
   "source": [
    "%load_ext sql\n",
    "#%reload_ext sql"
   ]
  },
  {
   "cell_type": "code",
   "execution_count": 3,
   "id": "f41dca43-b600-4e29-9075-7a09d074332a",
   "metadata": {
    "tags": []
   },
   "outputs": [],
   "source": [
    "import csv, sqlite3\n",
    "\n",
    "con = sqlite3.connect(\"my_data1.db\")\n",
    "cur = con.cursor()\n",
    "\n"
   ]
  },
  {
   "cell_type": "code",
   "execution_count": 4,
   "id": "ed7c4033-e042-4e99-bb20-10eb6a01c182",
   "metadata": {
    "tags": []
   },
   "outputs": [],
   "source": [
    "!pip install -q pandas==1.1.5"
   ]
  },
  {
   "cell_type": "code",
   "execution_count": 5,
   "id": "c343739a-3fce-4f5c-891b-1cbc23531534",
   "metadata": {
    "tags": []
   },
   "outputs": [
    {
     "data": {
      "text/plain": [
       "'Connected: @my_data1.db'"
      ]
     },
     "execution_count": 5,
     "metadata": {},
     "output_type": "execute_result"
    }
   ],
   "source": [
    "%sql sqlite:///my_data1.db"
   ]
  },
  {
   "cell_type": "code",
   "execution_count": 25,
   "id": "4a4615a4-24d9-44ab-bd35-9ab40832921f",
   "metadata": {
    "tags": []
   },
   "outputs": [
    {
     "name": "stdout",
     "output_type": "stream",
     "text": [
      "Index(['Date', 'Time (UTC)', 'Booster_Version', 'Launch_Site', 'Payload',\n",
      "       'PAYLOAD_MASS__KG_', 'Orbit', 'Customer', 'Mission_Outcome',\n",
      "       'Landing_Outcome'],\n",
      "      dtype='object')\n"
     ]
    }
   ],
   "source": [
    "import pandas as pd\n",
    "df = pd.read_csv(\"https://cf-courses-data.s3.us.cloud-object-storage.appdomain.cloud/IBM-DS0321EN-SkillsNetwork/labs/module_2/data/Spacex.csv\")\n",
    "df.to_sql(\"SPACEXTBL\", con, if_exists='replace', index=False,method=\"multi\")\n",
    "print(df.columns[:11])"
   ]
  },
  {
   "cell_type": "code",
   "execution_count": 10,
   "id": "9c1a336c-5f3e-479c-9af5-29033fd58b7b",
   "metadata": {
    "tags": []
   },
   "outputs": [
    {
     "name": "stdout",
     "output_type": "stream",
     "text": [
      " * sqlite:///my_data1.db\n",
      "(sqlite3.OperationalError) table SPACEXTABLE already exists\n",
      "[SQL: create table SPACEXTABLE as select * from SPACEXTBL where Date is not null]\n",
      "(Background on this error at: http://sqlalche.me/e/e3q8)\n"
     ]
    }
   ],
   "source": [
    "%sql create table SPACEXTABLE as select * from SPACEXTBL where Date is not null\n"
   ]
  },
  {
   "cell_type": "code",
   "execution_count": 58,
   "id": "e3ff5d0e-63a7-435d-913a-e218f30089ac",
   "metadata": {
    "tags": []
   },
   "outputs": [
    {
     "data": {
      "text/plain": [
       "('No attempt', 10)"
      ]
     },
     "execution_count": 58,
     "metadata": {},
     "output_type": "execute_result"
    }
   ],
   "source": [
    "# Tasks\n",
    "# Now write and execute SQL queries to solve the assignment tasks.\n",
    "# Note: If the column names are in mixed case enclose it in double quotes For Example \"Landing_Outcome\"\n",
    "# Task 1\n",
    "# Display the names of the unique launch sites in the space mission\n",
    "\n",
    "res = cur.execute(\"SELECT DISTINCT Launch_Site FROM SPACEXTBL\")\n",
    "res.fetchone()\n",
    "\n",
    "### Task 2\n",
    "#####  Display 5 records where launch sites begin with the string 'CCA'\n",
    "res = cur.execute(\"SELECT * FROM SPACEXTBL WHERE Launch_Site LIKE 'CCA%' LIMIT 5\")\n",
    "res.fetchone()\n",
    "\n",
    "# Task 3\n",
    "# Display the total payload mass carried by boosters launched by NASA (CRS)\n",
    "res = cur.execute(\"SELECT SUM(PAYLOAD_MASS__KG_) AS TotalPayloadMass FROM SPACEXTBL WHERE Launch_Site = 'NASA CRS'\")\n",
    "res.fetchone()\n",
    "\n",
    "# Task 4\n",
    "# Display average payload mass carried by booster version F9 v1.1\n",
    "\n",
    "res = cur.execute(\"SELECT AVG(PAYLOAD_MASS__KG_) AS AveragePayloadMass FROM SPACEXTBL WHERE Booster_Version = 'F9 v1.1'\")\n",
    "res.fetchone()\n",
    "\n",
    "# Task 5\n",
    "# List the date when the first succesful landing outcome in ground pad was acheived.\n",
    "res = cur.execute(\"SELECT MIN(Date) AS FirstSuccessfulGroundPadLanding FROM SPACEXTBL WHERE Landing_Outcome = 'Success'\")\n",
    "#                  AND Landing_Pad IS NOT NULL\")\n",
    "res.fetchone()\n",
    "\n",
    "#Task 6\n",
    "# List the names of the boosters which have success in drone ship and have payload mass greater than 4000 but less than 6000\n",
    "\n",
    "res = cur.execute(\"SELECT Booster_Version FROM SPACEXTBL WHERE Landing_Outcome = 'Success' AND PAYLOAD_MASS__KG_ > 4000 AND PAYLOAD_MASS__KG_ < 6000\")\n",
    "res.fetchone()\n",
    "\n",
    "# Task 7\n",
    "# List the total number of successful and failure mission outcomes\n",
    "res = cur.execute(\"SELECT Mission_Outcome, COUNT(*) AS Total FROM SPACEXTBL WHERE Mission_Outcome IN ('Success', 'Failure') GROUP BY Mission_Outcome\")\n",
    "res.fetchone()\n",
    "\n",
    "# Task 8\n",
    "# List the names of the booster_versions which have carried the maximum payload mass. Use a subquery\n",
    "\n",
    "res = cur.execute(\"\"\"\n",
    "        SELECT Booster_Version\n",
    "        FROM SPACEXTBL\n",
    "        WHERE PAYLOAD_MASS__KG_ = (SELECT MAX(PAYLOAD_MASS__KG_) FROM SPACEXTBL)\n",
    "        \"\"\")\n",
    "res.fetchone()\n",
    "\n",
    "# Task 9\n",
    "# List the records which will display the month names, failure landing_outcomes in drone ship ,booster versions, launch_site for the months in year 2015.\n",
    "# Note: SQLLite does not support monthnames. So you need to use substr(Date, 6,2) as month to get the months and substr(Date,0,5)='2015' for year.\n",
    "\n",
    "res = cur.execute(\"\"\"\n",
    "        SELECT \n",
    "            CASE\n",
    "                WHEN substr(Date, 4, 2) = '01' THEN 'January'\n",
    "                WHEN substr(Date, 4, 2) = '02' THEN 'February'\n",
    "                WHEN substr(Date, 4, 2) = '03' THEN 'March'\n",
    "                WHEN substr(Date, 4, 2) = '04' THEN 'April'\n",
    "                WHEN substr(Date, 4, 2) = '05' THEN 'May'\n",
    "                WHEN substr(Date, 4, 2) = '06' THEN 'June'\n",
    "                WHEN substr(Date, 4, 2) = '07' THEN 'July'\n",
    "                WHEN substr(Date, 4, 2) = '08' THEN 'August'\n",
    "                WHEN substr(Date, 4, 2) = '09' THEN 'September'\n",
    "                WHEN substr(Date, 4, 2) = '10' THEN 'October'\n",
    "                WHEN substr(Date, 4, 2) = '11' THEN 'November'\n",
    "                WHEN substr(Date, 4, 2) = '12' THEN 'December'\n",
    "            END AS MonthName,\n",
    "            Booster_Version,\n",
    "            Launch_Site\n",
    "        FROM \n",
    "            SPACEXTBL\n",
    "        WHERE \n",
    "            substr(Date, 0, 5) = '2015' AND\n",
    "            Landing_Outcome = 'Failure'\n",
    "        \"\"\")\n",
    "res.fetchone()\n",
    "\n",
    "# Task 10\n",
    "# Rank the count of landing outcomes (such as Failure (drone ship) or Success (ground pad)) between the date 2010-06-04 and 2017-03-20, in descending order.\n",
    "\n",
    "res = cur.execute(\"\"\"\n",
    "        SELECT  Landing_Outcome,\n",
    "            COUNT(*) AS OutcomeCount\n",
    "        FROM \n",
    "            SPACEXTBL\n",
    "        WHERE \n",
    "            Date BETWEEN '2010-06-04' AND '2017-03-20'\n",
    "        GROUP BY \n",
    "            Landing_Outcome\n",
    "        ORDER BY \n",
    "            OutcomeCount DESC\n",
    "        \"\"\")\n",
    "res.fetchone()"
   ]
  },
  {
   "cell_type": "code",
   "execution_count": null,
   "id": "9acb728b-a7f5-451f-aa80-5d392e7e493e",
   "metadata": {},
   "outputs": [],
   "source": []
  }
 ],
 "metadata": {
  "kernelspec": {
   "display_name": "Python",
   "language": "python",
   "name": "conda-env-python-py"
  },
  "language_info": {
   "codemirror_mode": {
    "name": "ipython",
    "version": 3
   },
   "file_extension": ".py",
   "mimetype": "text/x-python",
   "name": "python",
   "nbconvert_exporter": "python",
   "pygments_lexer": "ipython3",
   "version": "3.7.12"
  }
 },
 "nbformat": 4,
 "nbformat_minor": 5
}
