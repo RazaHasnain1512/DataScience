{
 "cells": [
  {
   "cell_type": "code",
   "execution_count": 4,
   "id": "dbe23f6d-dae8-4d57-bc22-597d19b0f96d",
   "metadata": {
    "tags": []
   },
   "outputs": [
    {
     "data": {
      "text/plain": [
       "FlightNumber        int64\n",
       "Date               object\n",
       "BoosterVersion     object\n",
       "PayloadMass       float64\n",
       "Orbit              object\n",
       "LaunchSite         object\n",
       "Outcome            object\n",
       "Flights             int64\n",
       "GridFins             bool\n",
       "Reused               bool\n",
       "Legs                 bool\n",
       "LandingPad         object\n",
       "Block             float64\n",
       "ReusedCount         int64\n",
       "Serial             object\n",
       "Longitude         float64\n",
       "Latitude          float64\n",
       "dtype: object"
      ]
     },
     "execution_count": 4,
     "metadata": {},
     "output_type": "execute_result"
    }
   ],
   "source": [
    "# Import Libraries and Define Auxiliary Functions\n",
    "# We will import the following libraries.\n",
    "\n",
    "# Pandas is a software library written for the Python programming language for data manipulation and analysis.\n",
    "import pandas as pd\n",
    "#NumPy is a library for the Python programming language, adding support for large, multi-dimensional arrays and matrices, along with a large collection of high-level mathematical functions to operate on these arrays\n",
    "import numpy as np\n",
    "\n",
    "#Data Analysis\n",
    "#Load Space X dataset, from last section.\n",
    "\n",
    "df=pd.read_csv(\"https://cf-courses-data.s3.us.cloud-object-storage.appdomain.cloud/IBM-DS0321EN-SkillsNetwork/datasets/dataset_part_1.csv\")\n",
    "df.head(10)\n",
    "\n",
    "#Identify and calculate the percentage of the missing values in each attribute\n",
    "df.isnull().sum()/len(df)*100\n",
    "\n",
    "#Identify which columns are numerical and categorical:\n",
    "df.dtypes"
   ]
  },
  {
   "cell_type": "code",
   "execution_count": 6,
   "id": "efee1ab8-430a-4669-a219-4991a9fcf606",
   "metadata": {
    "tags": []
   },
   "outputs": [
    {
     "name": "stdout",
     "output_type": "stream",
     "text": [
      "Number of launches on each site:\n",
      "CCAFS SLC 40    55\n",
      "KSC LC 39A      22\n",
      "VAFB SLC 4E     13\n",
      "Name: LaunchSite, dtype: int64\n"
     ]
    }
   ],
   "source": [
    "# TASK 1: Calculate the number of launches on each site\n",
    "# The data contains several Space X launch facilities: Cape Canaveral Space Launch Complex 40 VAFB SLC 4E , Vandenberg Air Force Base Space Launch Complex 4E (SLC-4E), Kennedy Space Center Launch Complex 39A KSC LC 39A .The location of each Launch Is placed in the column LaunchSite\n",
    "# Next, let's see the number of launches for each site.\n",
    "# Use the method value_counts() on the column LaunchSite to determine the number of launches on each site:\n",
    "\n",
    "# Apply value_counts() on column LaunchSite\n",
    "launch_counts = df['LaunchSite'].value_counts()\n",
    "\n",
    "print(\"Number of launches on each site:\")\n",
    "print(launch_counts)\n",
    "\n",
    "#Each launch aims to an dedicated orbit, and here are some common orbit types:\n",
    "#LEO: Low Earth orbit (LEO)is an Earth-centred orbit with an altitude of 2,000 km (1,200 mi) or less (approximately one-third of the radius of Earth),[1] or with at least 11.25 periods per day (an orbital period of 128 minutes or less) and an eccentricity less than 0.25.[2] Most of the manmade objects in outer space are in LEO [1]."
   ]
  },
  {
   "cell_type": "code",
   "execution_count": 7,
   "id": "6318ba8b-662e-4fa8-94d7-1e9624b32b15",
   "metadata": {
    "tags": []
   },
   "outputs": [
    {
     "name": "stdout",
     "output_type": "stream",
     "text": [
      "Number and occurrence of each orbit:\n",
      "GTO      27\n",
      "ISS      21\n",
      "VLEO     14\n",
      "PO        9\n",
      "LEO       7\n",
      "SSO       5\n",
      "MEO       3\n",
      "ES-L1     1\n",
      "HEO       1\n",
      "SO        1\n",
      "GEO       1\n",
      "Name: Orbit, dtype: int64\n"
     ]
    }
   ],
   "source": [
    "# TASK 2: Calculate the number and occurrence of each orbit\n",
    "# Use the method .value_counts() to determine the number and occurrence of each orbit in the column Orbit\n",
    "\n",
    "## Apply value_counts on Orbit column\n",
    "orbit_counts = df['Orbit'].value_counts()\n",
    "print(\"Number and occurrence of each orbit:\")\n",
    "print(orbit_counts)\n"
   ]
  },
  {
   "cell_type": "code",
   "execution_count": 10,
   "id": "69ad1186-4396-4da7-8f04-910ddecdabee",
   "metadata": {
    "tags": []
   },
   "outputs": [
    {
     "name": "stdout",
     "output_type": "stream",
     "text": [
      "Number and occurrence of mission outcomes for landing:\n",
      "True ASDS      41\n",
      "None None      19\n",
      "True RTLS      14\n",
      "False ASDS      6\n",
      "True Ocean      5\n",
      "False Ocean     2\n",
      "None ASDS       2\n",
      "False RTLS      1\n",
      "Name: Outcome, dtype: int64\n",
      "0 True ASDS\n",
      "1 None None\n",
      "2 True RTLS\n",
      "3 False ASDS\n",
      "4 True Ocean\n",
      "5 False Ocean\n",
      "6 None ASDS\n",
      "7 False RTLS\n"
     ]
    },
    {
     "data": {
      "text/plain": [
       "{'False ASDS', 'False Ocean', 'False RTLS', 'None ASDS', 'None None'}"
      ]
     },
     "execution_count": 10,
     "metadata": {},
     "output_type": "execute_result"
    }
   ],
   "source": [
    "# TASK 3: Calculate the number and occurence of mission outcome of the orbits\n",
    "# Use the method .value_counts() on the column Outcome to determine the number of landing_outcomes.Then assign it to a variable landing_outcomes.\n",
    "\n",
    "# landing_outcomes = values on Outcome column\n",
    "landing_outcomes = df['Outcome'].value_counts()\n",
    "\n",
    "print(\"Number and occurrence of mission outcomes for landing:\")\n",
    "print(landing_outcomes)\n",
    "\n",
    "for i,outcome in enumerate(landing_outcomes.keys()):\n",
    "    print(i,outcome)\n",
    "    \n",
    "#We create a set of outcomes where the second stage did not land successfully:\n",
    "bad_outcomes=set(landing_outcomes.keys()[[1,3,5,6,7]])\n",
    "bad_outcomes\n"
   ]
  },
  {
   "cell_type": "code",
   "execution_count": 15,
   "id": "48994def-951a-4a77-a8a7-a622e0e89563",
   "metadata": {
    "tags": []
   },
   "outputs": [
    {
     "name": "stdout",
     "output_type": "stream",
     "text": [
      "    FlightNumber        Date BoosterVersion   PayloadMass Orbit    LaunchSite  \\\n",
      "0              1  2010-06-04       Falcon 9   6104.959412   LEO  CCAFS SLC 40   \n",
      "1              2  2012-05-22       Falcon 9    525.000000   LEO  CCAFS SLC 40   \n",
      "2              3  2013-03-01       Falcon 9    677.000000   ISS  CCAFS SLC 40   \n",
      "3              4  2013-09-29       Falcon 9    500.000000    PO   VAFB SLC 4E   \n",
      "4              5  2013-12-03       Falcon 9   3170.000000   GTO  CCAFS SLC 40   \n",
      "..           ...         ...            ...           ...   ...           ...   \n",
      "85            86  2020-09-03       Falcon 9  15400.000000  VLEO    KSC LC 39A   \n",
      "86            87  2020-10-06       Falcon 9  15400.000000  VLEO    KSC LC 39A   \n",
      "87            88  2020-10-18       Falcon 9  15400.000000  VLEO    KSC LC 39A   \n",
      "88            89  2020-10-24       Falcon 9  15400.000000  VLEO  CCAFS SLC 40   \n",
      "89            90  2020-11-05       Falcon 9   3681.000000   MEO  CCAFS SLC 40   \n",
      "\n",
      "        Outcome  Flights  GridFins  Reused   Legs                LandingPad  \\\n",
      "0     None None        1     False   False  False                       NaN   \n",
      "1     None None        1     False   False  False                       NaN   \n",
      "2     None None        1     False   False  False                       NaN   \n",
      "3   False Ocean        1     False   False  False                       NaN   \n",
      "4     None None        1     False   False  False                       NaN   \n",
      "..          ...      ...       ...     ...    ...                       ...   \n",
      "85    True ASDS        2      True    True   True  5e9e3032383ecb6bb234e7ca   \n",
      "86    True ASDS        3      True    True   True  5e9e3032383ecb6bb234e7ca   \n",
      "87    True ASDS        6      True    True   True  5e9e3032383ecb6bb234e7ca   \n",
      "88    True ASDS        3      True    True   True  5e9e3033383ecbb9e534e7cc   \n",
      "89    True ASDS        1      True   False   True  5e9e3032383ecb6bb234e7ca   \n",
      "\n",
      "    Block  ReusedCount Serial   Longitude   Latitude  Landing_Class  Class  \n",
      "0     1.0            0  B0003  -80.577366  28.561857              0      0  \n",
      "1     1.0            0  B0005  -80.577366  28.561857              0      0  \n",
      "2     1.0            0  B0007  -80.577366  28.561857              0      0  \n",
      "3     1.0            0  B1003 -120.610829  34.632093              0      0  \n",
      "4     1.0            0  B1004  -80.577366  28.561857              0      0  \n",
      "..    ...          ...    ...         ...        ...            ...    ...  \n",
      "85    5.0            2  B1060  -80.603956  28.608058              1      1  \n",
      "86    5.0            2  B1058  -80.603956  28.608058              1      1  \n",
      "87    5.0            5  B1051  -80.603956  28.608058              1      1  \n",
      "88    5.0            2  B1060  -80.577366  28.561857              1      1  \n",
      "89    5.0            0  B1062  -80.577366  28.561857              1      1  \n",
      "\n",
      "[90 rows x 19 columns]\n"
     ]
    }
   ],
   "source": [
    "# TASK 4: Create a landing outcome label from Outcome column\n",
    "# Using the Outcome, create a list where the element is zero if the corresponding row in Outcome is in the set bad_outcome; otherwise, it's one. Then assign it to the variable landing_class:\n",
    "\n",
    "# Define the set of bad outcomes\n",
    "bad_outcomes = {'False ASDS', 'False Ocean', 'False RTLS', 'None ASDS', 'None None'}\n",
    "\n",
    "# Create a list where the element is zero if the corresponding row in Outcome is in the set bad_outcome; otherwise, it's one\n",
    "landing_class = [0 if outcome in bad_outcomes else 1 for outcome in df['Outcome']]\n",
    "\n",
    "# Assign it to the variable landing_class\n",
    "df['Landing_Class'] = landing_class\n",
    "\n",
    "# Print the DataFrame to verify the addition of the new column\n",
    "print(df)\n",
    "\n",
    "#This variable will represent the classification variable that represents the outcome of each launch. If the value is zero, the first stage did not land successfully; one means the first stage landed Successfully\n",
    "df['Class']=landing_class\n",
    "df[['Class']].head(8)\n",
    "df.head(5)\n",
    "\n",
    "#We can use the following line of code to determine the success rate:\n",
    "df[\"Class\"].mean()\n",
    "\n",
    "#We can now export it to a CSV for the next section,but to make the answers consistent, in the next lab we will provide data in a pre-selected date range.\n",
    "df.to_csv(\"dataset_part_2.csv\", index=False)"
   ]
  },
  {
   "cell_type": "code",
   "execution_count": 18,
   "id": "4d7ce0d5-d612-4f8e-8f49-6cd2c5dafb28",
   "metadata": {
    "tags": []
   },
   "outputs": [
    {
     "name": "stdout",
     "output_type": "stream",
     "text": [
      "Number of landing outcomes with a value of 'none': 2\n"
     ]
    }
   ],
   "source": [
    "import pandas as pd\n",
    "\n",
    "# Assuming you have sample data in a DataFrame named 'data'\n",
    "data = pd.DataFrame({'landing_outcomes': ['success', 'failure', 'none', 'success', 'none']})\n",
    "\n",
    "# Count the number of landing outcomes with a value of 'none'\n",
    "none_count = data['landing_outcomes'].value_counts()['none']\n",
    "\n",
    "# Print the result\n",
    "print(\"Number of landing outcomes with a value of 'none':\", none_count)\n"
   ]
  },
  {
   "cell_type": "code",
   "execution_count": null,
   "id": "be6605ac-39bf-4e77-850c-53318861e940",
   "metadata": {},
   "outputs": [],
   "source": []
  }
 ],
 "metadata": {
  "kernelspec": {
   "display_name": "Python",
   "language": "python",
   "name": "conda-env-python-py"
  },
  "language_info": {
   "codemirror_mode": {
    "name": "ipython",
    "version": 3
   },
   "file_extension": ".py",
   "mimetype": "text/x-python",
   "name": "python",
   "nbconvert_exporter": "python",
   "pygments_lexer": "ipython3",
   "version": "3.7.12"
  }
 },
 "nbformat": 4,
 "nbformat_minor": 5
}
